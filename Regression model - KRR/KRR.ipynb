{
 "cells": [
  {
   "cell_type": "code",
   "execution_count": 1,
   "id": "da4e7751-0dd0-406d-8c39-75088c23ea2d",
   "metadata": {
    "tags": []
   },
   "outputs": [],
   "source": [
    "import numpy as np\n",
    "import pandas as pd\n",
    "import matplotlib as mpl\n",
    "import matplotlib.pyplot as plt\n",
    "\n",
    "from sklearn.model_selection import train_test_split, GridSearchCV\n",
    "from sklearn.kernel_ridge import KernelRidge\n",
    "from sklearn.metrics import mean_absolute_error, mean_squared_error, r2_score\n",
    "\n",
    "import pickle\n",
    "import json\n"
   ]
  },
  {
   "cell_type": "code",
   "execution_count": 26,
   "id": "f810db79-790f-4cf5-9811-89fbbf960cf3",
   "metadata": {
    "tags": []
   },
   "outputs": [
    {
     "data": {
      "text/plain": [
       "0    2.470824\n",
       "1    5.525175\n",
       "2   -8.739580\n",
       "3   -8.846282\n",
       "4   -1.910637\n",
       "Name: x, dtype: float64"
      ]
     },
     "execution_count": 26,
     "metadata": {},
     "output_type": "execute_result"
    }
   ],
   "source": [
    "df = pd.read_csv('/Users/parkinhyuk/Desktop/TUM/Python for Engineering Data Analysis - From Machine Learning to Visualization/Regression KRR /Regression KRR/wave.csv')\n",
    "df.x.head()"
   ]
  },
  {
   "cell_type": "code",
   "execution_count": null,
   "id": "aeff46c1-3413-43f3-a17c-c20f7a3f66db",
   "metadata": {},
   "outputs": [],
   "source": [
    "### Split data"
   ]
  },
  {
   "cell_type": "code",
   "execution_count": 120,
   "id": "8e6c87ca-ca03-4593-b7d7-c7f211961ce6",
   "metadata": {},
   "outputs": [],
   "source": [
    "def get_train_test_split(filename: str) -> dict:\n",
    "    \n",
    "    # Split the data into training and testing sets with 20% of the data as test\n",
    "    x_tv, x_test, y_tv, y_test = train_test_split(df.x , df.y, shuffle=True, test_size=0.2)\n",
    "    \n",
    "    # Construct the dictionary to return\n",
    "    split_data = {\n",
    "        \"train\": {\n",
    "            \"x\": x_tv.values.reshape(-1,1),\n",
    "            \"y\": y_tv.values\n",
    "        },\n",
    "        \"test\": {\n",
    "            \"x\": x_test.values.reshape(-1,1),\n",
    "            \"y\": y_test.values\n",
    "        }\n",
    "    }\n",
    "    \n",
    "    return split_data"
   ]
  },
  {
   "cell_type": "code",
   "execution_count": 121,
   "id": "91083221-4cab-41f7-9d2f-b1fc493057e6",
   "metadata": {
    "tags": []
   },
   "outputs": [],
   "source": [
    "def wave(x: np.ndarray) -> np.ndarray:\n",
    "    return np.exp(-(x)**2)"
   ]
  },
  {
   "cell_type": "code",
   "execution_count": 144,
   "id": "58f74134-b2f7-4a27-82fa-0f959389fe0b",
   "metadata": {},
   "outputs": [],
   "source": [
    "def get_hyper_model() -> GridSearchCV:\n",
    "    \n",
    "    parameters = {\n",
    "        'alpha': [0.1,1, 10, 100],\n",
    "        'kernel': ['linear', 'rbf', 'poly'],\n",
    "        'gamma': np.logspace(-4, 1, 6)  # Wide range of gamma values\n",
    "    }\n",
    "    \n",
    "    model = KernelRidge()\n",
    "    \n",
    "    hypermodel = GridSearchCV(model,parameters,cv=8,scoring='neg_mean_squared_error')\n",
    "\n",
    "    \n",
    "    return hypermodel"
   ]
  },
  {
   "cell_type": "code",
   "execution_count": 153,
   "id": "c30a5653-f82b-42f0-8aa2-bee6a58e50f3",
   "metadata": {
    "tags": []
   },
   "outputs": [],
   "source": [
    "def train(hyper_model: GridSearchCV, data: dict,name:str) -> KernelRidge:\n",
    "    \n",
    "    dt = get_train_test_split(data)\n",
    "    \n",
    "    x_tv = dt['train']['x']\n",
    "    y_tv = dt['train']['y']\n",
    "    \n",
    "    x_test = dt['test']['x']\n",
    "    y_test = dt['test']['y']\n",
    "    \n",
    "    #fit model using training data\n",
    "    hyper_model.fit(x_tv, y_tv)\n",
    "    \n",
    "    #Find the best esitmate\n",
    "    best_model = hyper_model.best_estimator_ \n",
    "    \n",
    "    y_pred_train = best_model.predict(x_tv.reshape(-1,1))\n",
    "    y_pred_test = best_model.predict(x_test.reshape(-1,1))\n",
    "    \n",
    "    \n",
    "    mae_train = mean_absolute_error(y_tv, y_pred_train)\n",
    "    mse_train = mean_squared_error(y_tv, y_pred_train)\n",
    "    r2_train = r2_score(y_tv, y_pred_train)\n",
    "    \n",
    "    mae_test = mean_absolute_error(y_test,y_pred_test)\n",
    "    mse_test = mean_squared_error(y_test,y_pred_test)\n",
    "    \n",
    "    r2_test  = r2_score(y_test,y_pred_test)\n",
    "    \n",
    "\n",
    "    result = {\n",
    "        \"best_params\": {\n",
    "            \"alpha\": hyper_model.best_estimator_.alpha,\n",
    "            \"gamma\": hyper_model.best_estimator_.gamma,\n",
    "            \"kernel\": \"rbf\"\n",
    "            \n",
    "        },\n",
    "        \"train\": {\n",
    "            \"mae\": mae_train,\n",
    "            \"mse\": mse_train,\n",
    "            \"r2\":  r2_train\n",
    "        },\n",
    "        \n",
    "        \"test\": {\n",
    "            \"mae\": mae_test,\n",
    "            \"mse\": mse_test,\n",
    "            \"r2\":  r2_test\n",
    "        }\n",
    "    }\n",
    "    \n",
    "    with open(f\"{name}.json\",'w') as file:\n",
    "        json.dump(result, file, indent=2)\n",
    "        \n",
    "    with open(f\"{name}.pickl\",'wb') as file:\n",
    "        pickle.dump(hyper_model.best_estimator_, file )\n",
    "    \n",
    "    return result, hyper_model.best_estimator_\n"
   ]
  },
  {
   "cell_type": "code",
   "execution_count": 155,
   "id": "fab641cb-9c9e-46e8-b87d-0b38ea43f504",
   "metadata": {
    "tags": []
   },
   "outputs": [
    {
     "name": "stdout",
     "output_type": "stream",
     "text": [
      "({'best_params': {'alpha': 0.1, 'gamma': 10.0, 'kernel': 'rbf'}, 'train': {'mae': 0.022794415455573463, 'mse': 0.0009718689964861815, 'r2': 0.9934415886646183}, 'test': {'mae': 0.10861515971835844, 'mse': 0.03840215054853109, 'r2': 0.6209256260991662}}, KernelRidge(alpha=0.1, gamma=10.0, kernel='rbf'))\n"
     ]
    }
   ],
   "source": [
    "if __name__ == \"__main__\":\n",
    "    data = get_train_test_split(\"wave.csv\")\n",
    "\n",
    "    hyper_model = get_hyper_model()\n",
    "\n",
    "    best_model = train(hyper_model, data, \"ex13\")\n",
    "    print(best_model)\n",
    " #   fig = plot(best_model, data, \"ex13\")\n",
    "\n",
    "#    plt.show()"
   ]
  },
  {
   "cell_type": "code",
   "execution_count": null,
   "id": "f2b315ef-23cc-45b0-863e-bd2cb2cc887a",
   "metadata": {
    "tags": []
   },
   "outputs": [],
   "source": []
  },
  {
   "cell_type": "code",
   "execution_count": 99,
   "id": "fee564e3-a6d1-4ca7-ba57-232079462503",
   "metadata": {
    "tags": []
   },
   "outputs": [],
   "source": []
  },
  {
   "cell_type": "code",
   "execution_count": 112,
   "id": "23ba0488-fc01-47d2-bf1c-3b1a188daea7",
   "metadata": {
    "tags": []
   },
   "outputs": [
    {
     "name": "stdout",
     "output_type": "stream",
     "text": [
      "{'best_params': {'alpha': 0.01, 'gamma': 10.0, 'kernel': 'rbf'}, 'train': {'mae': 0.007892711722503769, 'mse': 0.00014214922541272497, 'r2': 0.999000258338663}, 'test': {'mae': 0.10936917462546422, 'mse': 0.03678281469930416, 'r2': 0.7332485759779807}}\n"
     ]
    },
    {
     "data": {
      "image/png": "[encoded data removed]",
      "text/plain": [
       "<Figure size 640x480 with 1 Axes>"
      ]
     },
     "metadata": {},
     "output_type": "display_data"
    }
   ],
   "source": [
    "import numpy as np\n",
    "import pandas as pd\n",
    "import matplotlib as mpl\n",
    "import matplotlib.pyplot as plt\n",
    "import pickle\n",
    "import json\n",
    "\n",
    "from sklearn.model_selection import train_test_split, GridSearchCV\n",
    "from sklearn.kernel_ridge import KernelRidge\n",
    "from sklearn.metrics import mean_absolute_error, mean_squared_error, r2_score\n",
    "\n",
    "\n",
    "def wave(x: np.ndarray) -> np.ndarray:\n",
    "    return np.exp(-(x)**2)\n",
    "\n",
    "\n",
    "def get_train_test_split(filename: str) -> dict:\n",
    "    # Load data from CSV file\n",
    "    df = pd.read_csv(filename)\n",
    "    \n",
    "    # Split the data into training and testing sets with 20% of the data as test\n",
    "    x_tv, x_test, y_tv, y_test = train_test_split(df[['x']], df['y'], shuffle=True, test_size=0.2)\n",
    "    \n",
    "    # Construct the dictionary to return\n",
    "    split_data = {\n",
    "        \"train\": {\n",
    "            \"x\": x_tv.values,\n",
    "            \"y\": y_tv.values\n",
    "        },\n",
    "        \"test\": {\n",
    "            \"x\": x_test.values,\n",
    "            \"y\": y_test.values\n",
    "        }\n",
    "    }\n",
    "    \n",
    "    return split_data\n",
    "\n",
    "\n",
    "def get_hyper_model() -> GridSearchCV:\n",
    "    parameters = {\n",
    "        'alpha': [0.01, 0.1, 1, 10, 100],\n",
    "        'kernel': ['linear', 'rbf', 'poly'],\n",
    "        'gamma': np.logspace(-4, 1, 6)  # Wide range of gamma values\n",
    "    }\n",
    "    \n",
    "    model = KernelRidge()\n",
    "    hypermodel = GridSearchCV(model, parameters, cv=8, scoring='neg_mean_squared_error')\n",
    "    \n",
    "    return hypermodel\n",
    "\n",
    "\n",
    "def train(hyper_model: GridSearchCV, data: dict, name: str) -> KernelRidge:\n",
    "    x_tv = data['train']['x']\n",
    "    y_tv = data['train']['y']\n",
    "    \n",
    "    x_test = data['test']['x']\n",
    "    y_test = data['test']['y']\n",
    "    \n",
    "    # Fit model using training data\n",
    "    hyper_model.fit(x_tv, y_tv)\n",
    "    \n",
    "    # Find the best estimator\n",
    "    best_model = hyper_model.best_estimator_\n",
    "    \n",
    "    # Make predictions on training and test sets\n",
    "    y_pred_train = best_model.predict(x_tv)\n",
    "    y_pred_test = best_model.predict(x_test)\n",
    "    \n",
    "    # Calculate metrics on training set\n",
    "    mae_train = mean_absolute_error(y_tv, y_pred_train)\n",
    "    mse_train = mean_squared_error(y_tv, y_pred_train)\n",
    "    r2_train = r2_score(y_tv, y_pred_train)\n",
    "    \n",
    "    # Calculate metrics on test set\n",
    "    mae_test = mean_absolute_error(y_test, y_pred_test)\n",
    "    mse_test = mean_squared_error(y_test, y_pred_test)\n",
    "    r2_test = r2_score(y_test, y_pred_test)\n",
    "    \n",
    "    result = {\n",
    "        \"best_params\": hyper_model.best_params_,\n",
    "        \"train\": {\n",
    "            \"mae\": mae_train,\n",
    "            \"mse\": mse_train,\n",
    "            \"r2\": r2_train\n",
    "        },\n",
    "        \"test\": {\n",
    "            \"mae\": mae_test,\n",
    "            \"mse\": mse_test,\n",
    "            \"r2\": r2_test\n",
    "        }\n",
    "    }\n",
    "    \n",
    "    with open(f\"{name}.json\", 'w') as file:\n",
    "        json.dump(result, file, indent=2)\n",
    "        \n",
    "    with open(f\"{name}.pkl\", 'wb') as file:\n",
    "        pickle.dump(best_model, file)\n",
    "    \n",
    "    return result, best_model\n",
    "\n",
    "\n",
    "def plot(model: KernelRidge, data: dict, name: str) -> mpl.figure.Figure:\n",
    "    fig = plt.figure()\n",
    "    \n",
    "    # Generate predictions for plotting\n",
    "    x_test = data['test']['x']\n",
    "    y_test = data['test']['y']\n",
    "    y_pred = model.predict(x_test)\n",
    "    \n",
    "    # Plot actual vs predicted values\n",
    "    plt.scatter(x_test, y_test, color='blue', label='Actual')\n",
    "    plt.scatter(x_test, y_pred, color='red', label='Predicted')\n",
    "    plt.legend()\n",
    "    plt.title(f\"Actual vs Predicted - {name}\")\n",
    "    plt.xlabel(\"X values\")\n",
    "    plt.ylabel(\"Y values\")\n",
    "    \n",
    "    return fig\n",
    "\n",
    "\n",
    "if __name__ == \"__main__\":\n",
    "    data = get_train_test_split(\"wave.csv\")\n",
    "\n",
    "    hyper_model = get_hyper_model()\n",
    "\n",
    "    result, best_model = train(hyper_model, data, \"ex13\")\n",
    "    print(result)\n",
    "\n",
    "    fig = plot(best_model, data, \"ex13\")\n",
    "\n",
    "    plt.show()"
   ]
  },
  {
   "cell_type": "code",
   "execution_count": null,
   "id": "8a2676bc-c744-4629-8614-980a18ed16be",
   "metadata": {
    "tags": []
   },
   "outputs": [],
   "source": []
  },
  {
   "cell_type": "code",
   "execution_count": null,
   "id": "834bb05b-8536-4b17-83d5-d8626ab77551",
   "metadata": {},
   "outputs": [],
   "source": []
  }
 ],
 "metadata": {
  "kernelspec": {
   "display_name": "Python 3 (ipykernel)",
   "language": "python",
   "name": "python3"
  },
  "language_info": {
   "codemirror_mode": {
    "name": "ipython",
    "version": 3
   },
   "file_extension": ".py",
   "mimetype": "text/x-python",
   "name": "python",
   "nbconvert_exporter": "python",
   "pygments_lexer": "ipython3",
   "version": "3.11.5"
  }
 },
 "nbformat": 4,
 "nbformat_minor": 5
}
