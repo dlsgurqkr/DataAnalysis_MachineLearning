{
 "cells": [
  {
   "cell_type": "code",
   "execution_count": 2,
   "id": "3442e6ad-04be-49d9-b873-fc73168c9d0d",
   "metadata": {
    "tags": []
   },
   "outputs": [],
   "source": [
    "import numpy as np\n",
    "import pandas as pd\n",
    "import matplotlib.pyplot as plt"
   ]
  },
  {
   "cell_type": "code",
   "execution_count": 3,
   "id": "552b8463-85c2-4bea-bbb6-82369516f4f3",
   "metadata": {
    "tags": []
   },
   "outputs": [
    {
     "data": {
      "text/plain": [
       "1.0"
      ]
     },
     "execution_count": 3,
     "metadata": {},
     "output_type": "execute_result"
    }
   ],
   "source": [
    "delta = float(1)\n",
    "breit_wigner = pd.read_csv('/Users/parkinhyuk/Desktop/TUM/Python for Engineering Data Analysis - From Machine Learning to Visualization/Excercise 12 - LMA/breit_wigner.csv')\n",
    "delta"
   ]
  },
  {
   "cell_type": "code",
   "execution_count": 4,
   "id": "5dd45232-335f-4a3e-a17a-112ef416af55",
   "metadata": {
    "tags": []
   },
   "outputs": [
    {
     "data": {
      "text/plain": [
       "9"
      ]
     },
     "execution_count": 4,
     "metadata": {},
     "output_type": "execute_result"
    }
   ],
   "source": [
    "len(breit_wigner['y'])"
   ]
  },
  {
   "cell_type": "code",
   "execution_count": 5,
   "id": "68092889-9075-48fa-abe6-ae6eeb8fb737",
   "metadata": {
    "tags": []
   },
   "outputs": [],
   "source": [
    "def breit_wigner(x: np.ndarray,\n",
    "                 a: float, b: float, c: float) -> np.ndarray:\n",
    "    return a / ((b - x)**2 + c)"
   ]
  },
  {
   "cell_type": "code",
   "execution_count": 6,
   "id": "e65779a8-c677-4ad4-a4e9-253ca26c02b9",
   "metadata": {
    "tags": []
   },
   "outputs": [],
   "source": [
    "def gauss_newton_update(jacobian: np.ndarray, error: np.ndarray) -> np.ndarray:\n",
    "    # compute the parameter update delta_beta\n",
    "    \n",
    "    A = (jacobian.T @ jacobian) \n",
    "    g = (jacobian @ error)\n",
    "    delta_beta = np.linalg.solve(A,g)\n",
    "    \n",
    "    #Might need this: np.zeros(jacobian.shape[1])\n",
    "    \n",
    "    return delta_beta\n",
    "\n",
    "#Prototyped by examiner\n",
    "def gauss_newton(x: np.ndarray,\n",
    "                 y: np.ndarray,\n",
    "                 beta: np.ndarray,\n",
    "                 function: callable,\n",
    "                 max_iter: int = 100,\n",
    "                 threshold: float = 1e-3) -> tuple[np.ndarray, int]:\n",
    "    \n",
    "    for i in range(1, max_iter + 1):\n",
    "        jac = eval_jacobian(x, beta, function)\n",
    "        err = eval_error(x, y, beta, function)\n",
    "        delta_beta = gauss_newton_update(jac, err)\n",
    "        beta += delta_beta\n",
    "        \n",
    "        if np.linalg.norm(delta_beta) < threshold:\n",
    "            break\n",
    "    if i == max_iter:\n",
    "        raise UserWarning(f\"Gauss-Newton method did not converge in {i} iterations.\")\n",
    "    return beta, i\n"
   ]
  },
  {
   "cell_type": "markdown",
   "id": "8fa513cb-9e84-42a6-8ffd-b02c746b3eed",
   "metadata": {},
   "source": [
    "### Excercise 1 "
   ]
  },
  {
   "cell_type": "code",
   "execution_count": 7,
   "id": "55abbbab-13ab-415e-8451-d725f31d837e",
   "metadata": {
    "tags": []
   },
   "outputs": [],
   "source": [
    "def eval_jacobian(x: np.ndarray, beta: np.ndarray,\n",
    "                  function: callable, delta: float = 1e-4) -> np.ndarray:\n",
    "    # initialize jacobian matrix with zeros\n",
    "    jacobian = np.zeros((len(x), len(beta)))\n",
    "    # compute entries in jacobian matrix\n",
    "    for i in range(len(x)): \n",
    "        for j in range(len(beta)):\n",
    "            plus_delta_beta = beta.copy()\n",
    "            minus_delta_beta = beta.copy()\n",
    "            \n",
    "            plus_delta_beta[j] += delta\n",
    "            minus_delta_beta[j] -= delta\n",
    "            \n",
    "            jacobian[i,j] = (function(x[i], *plus_delta_beta) - function(x[i], *minus_delta_beta)) / (2*delta) ##* <- makes to \n",
    "        \n",
    "    return jacobian"
   ]
  },
  {
   "cell_type": "markdown",
   "id": "ea2b4454-f30b-4fb2-87fe-551cdc0f608a",
   "metadata": {},
   "source": [
    "### Exercise 2 - Calculate Error"
   ]
  },
  {
   "cell_type": "code",
   "execution_count": 8,
   "id": "ae49df4e-4eb6-451f-9788-231b15635733",
   "metadata": {
    "tags": []
   },
   "outputs": [],
   "source": [
    "def eval_error(x: np.ndarray, y: np.ndarray,\n",
    "               beta: np.ndarray, function: callable) -> np.ndarray:\n",
    "    # compute the error of f(x) with parameters beta\n",
    "    \n",
    "    error = y - function(x,*beta)\n",
    "    return error"
   ]
  },
  {
   "cell_type": "code",
   "execution_count": 9,
   "id": "2c5de4bc-08c3-4729-9d90-2a2907b8a86b",
   "metadata": {
    "tags": []
   },
   "outputs": [
    {
     "name": "stdout",
     "output_type": "stream",
     "text": [
      "Error: [0. 0. 0. 0. 0.]\n"
     ]
    }
   ],
   "source": [
    "## Test \n",
    "\n",
    "# Breit-Wigner 함수 정의\n",
    "def breit_wigner(x: np.ndarray, a: float, b: float, c: float) -> np.ndarray:\n",
    "    return a / ((b - x)**2 + c)\n",
    "\n",
    "# 테스트 데이터 수정 (Breit-Wigner 함수를 사용하기 위한 적절한 예제)\n",
    "x = np.linspace(0, 10, 5)  # Example input data\n",
    "y = breit_wigner(x, 1, 5, 1)  # Observed output data with known parameters\n",
    "beta = np.array([1, 5, 1], dtype=float)  # Parameters that should match the function's expected inputs\n",
    "\n",
    "# 오류 계산\n",
    "error = eval_error(x, y, beta, breit_wigner)\n",
    "print(\"Error:\", error)\n",
    "\n",
    "# 오류는 [0, 0, 0, 0, 0] 과 같아야 함, 즉 모델이 정확할 때 y와 함수 값의 차이가 0이어야 함\n"
   ]
  },
  {
   "cell_type": "code",
   "execution_count": null,
   "id": "7487e642-fedd-4141-8718-bb3236fb37fa",
   "metadata": {
    "tags": []
   },
   "outputs": [],
   "source": []
  },
  {
   "cell_type": "markdown",
   "id": "5c691824-1cca-41da-8d91-929bd4e9048d",
   "metadata": {},
   "source": [
    "### Exercise 3 - Gauss Newton Update to find Delta"
   ]
  },
  {
   "cell_type": "code",
   "execution_count": 11,
   "id": "fbd05c25-f82f-4e3d-8d96-076bfa1870ed",
   "metadata": {
    "tags": []
   },
   "outputs": [],
   "source": [
    "def gauss_newton_update(jacobian: np.ndarray, error: np.ndarray) -> np.ndarray:\n",
    "    # compute the parameter update delta_beta\n",
    "    # ...\n",
    "    \n",
    "    delta_beta = np.zeros(jacobian.shape[1])\n",
    "    \n",
    "    A = jacobian.T @ jacobian\n",
    "    g = jacobian.T @ error\n",
    "    delta_beta = np.linalg.solve(A,g)\n",
    "    \n",
    "    return delta_beta\n",
    "\n",
    "\n",
    "def gauss_newton(x: np.ndarray,\n",
    "                 y: np.ndarray,\n",
    "                 beta: np.ndarray,\n",
    "                 function: callable,\n",
    "                 max_iter: int = 100,\n",
    "                 threshold: float = 1e-3) -> tuple[np.ndarray, int]:\n",
    "    \n",
    "    for i in range(1, max_iter + 1):\n",
    "        jac = eval_jacobian(x, beta, function)\n",
    "        err = eval_error(x, y, beta, function)\n",
    "        delta_beta = gauss_newton_update(jac, err)\n",
    "        beta += delta_beta\n",
    "        if np.linalg.norm(delta_beta) < threshold:\n",
    "            break\n",
    "    if i == max_iter:\n",
    "        raise UserWarning(f\"Gauss-Newton method did not converge in {i} iterations.\")\n",
    "    return beta, i"
   ]
  },
  {
   "cell_type": "code",
   "execution_count": 12,
   "id": "67abd083-fcd3-4029-8b1c-c2c9641dc4ed",
   "metadata": {
    "tags": []
   },
   "outputs": [
    {
     "name": "stdout",
     "output_type": "stream",
     "text": [
      "True Beta: [1. 5. 1.]\n",
      "Initial Beta: [1. 5. 1.]\n",
      "Optimized Beta: [1. 5. 1.]\n",
      "Number of Iterations: 7\n",
      "The optimized beta values are close to the true beta values.\n"
     ]
    }
   ],
   "source": [
    "##Test \n",
    "\n",
    "x = np.linspace(0, 10, 50)  # x 데이터\n",
    "true_beta = np.array([1.0, 5.0, 1.0])  # 실제 파라미터 값\n",
    "y = breit_wigner(x, *true_beta)  # y 데이터, 실제 파라미터로 생성\n",
    "\n",
    "# 초기 추정치 설정 (true_beta와 다르게 설정)\n",
    "initial_beta = np.array([0.5, 4.0, 0.5])\n",
    "\n",
    "# Gauss-Newton 메서드 적용\n",
    "optimized_beta, num_iterations = gauss_newton(x, y, initial_beta, breit_wigner)\n",
    "\n",
    "# 실제 vs 예상 결과 출력\n",
    "print(\"True Beta:\", true_beta)\n",
    "print(\"Initial Beta:\", initial_beta)\n",
    "print(\"Optimized Beta:\", optimized_beta)\n",
    "print(\"Number of Iterations:\", num_iterations)\n",
    "\n",
    "# 예상 결과와 실제 결과 비교\n",
    "np.testing.assert_allclose(optimized_beta, true_beta, rtol=1e-4, atol=1e-4)\n",
    "print(\"The optimized beta values are close to the true beta values.\")"
   ]
  },
  {
   "cell_type": "code",
   "execution_count": null,
   "id": "0ba94e15-faf8-4250-9ab7-68581623600f",
   "metadata": {
    "tags": []
   },
   "outputs": [],
   "source": []
  },
  {
   "cell_type": "markdown",
   "id": "0ec11daf-1c3a-4237-96ab-155a977ec041",
   "metadata": {},
   "source": [
    "### Excercise 4 LM model"
   ]
  },
  {
   "cell_type": "code",
   "execution_count": 141,
   "id": "5b0d2ea6-aea1-4de1-9abb-a577b61de4c2",
   "metadata": {
    "tags": []
   },
   "outputs": [],
   "source": [
    "def levenberg_marquardt(x: np.ndarray,\n",
    "                        y: np.ndarray,\n",
    "                        beta: np.ndarray,\n",
    "                        function: callable,\n",
    "                        max_iter: int = 1000,\n",
    "                        threshold: float = 1e-3) -> tuple[np.ndarray, int]:\n",
    "    \n",
    "    # compute initial parameter lambda\n",
    "    lambda_i = 1\n",
    "  \n",
    "    for i in range(1, max_iter + 1):\n",
    "        # compute jacobian, error, and delta_beta\n",
    "        \n",
    "        jacobian = eval_jacobian(x,beta,function)\n",
    "        \n",
    "        error = eval_error(x,y,beta,function)\n",
    "        delta_beta = lm_update(jacobian, error, lambda_i) \n",
    "        \n",
    "        new_beta = beta + delta_beta\n",
    "        \n",
    "        new_error = eval_error(x, y, new_beta, function)\n",
    "    \n",
    "        # compute quality measure rho\n",
    "        rho = (np.linalg.norm(error)**2 - np.linalg.norm(new_error)**2) / (delta_beta.T @ (lambda_i * delta_beta + jacobian.T @ error)) #lambda_i is not a vector\n",
    "        \n",
    "        # update lambda according to quality measur                                                                 \n",
    "        if rho > 0:\n",
    "            beta = new_beta \n",
    "            lambda_i = max(lambda_i / 9, 10**-7)\n",
    "            \n",
    "        # update beta if quality measure is positive\n",
    "        \n",
    "        else:\n",
    "            lambda_i = min(lambda_i * 11, 10**7)\n",
    "            \n",
    "        # check for early convergence\n",
    "        if np.linalg.norm(delta_beta) < threshold: \n",
    "            print(f'Convergence at the iteration i: {i}') # Found the optimal delta_beta before final rounds\n",
    "            return beta, i \n",
    "\n",
    "    if i == max_iter:\n",
    "        raise UserWarning(f\"Levenberg-Marquardt method did not converge in {i} iterations.\")\n",
    "    return beta, i"
   ]
  },
  {
   "cell_type": "code",
   "execution_count": 136,
   "id": "a53b878a-21f4-4361-ab55-768117d78bc7",
   "metadata": {
    "tags": []
   },
   "outputs": [],
   "source": [
    "## Calculate LM delta_beta\n",
    "def lm_update(jacobian: np.ndarray,\n",
    "              error: np.ndarray,\n",
    "              lm_lambda: float) -> np.ndarray:\n",
    "    # compute the parameter update delta_beta\n",
    "    n = jacobian.shape[1]\n",
    "    I = np.eye(n)\n",
    "    delta_beta = np.zeros(jacobian.shape[1])\n",
    "    A = ((jacobian.T @ jacobian) + (lm_lambda * I)) #Vectoris lm_lambda\n",
    "    g = jacobian.T @ error  \n",
    "    \n",
    "    delta_beta = np.linalg.solve(A,g)\n",
    "    \n",
    "    return delta_beta"
   ]
  },
  {
   "cell_type": "markdown",
   "id": "d3fad986-c8fb-4999-ae5c-f095bedb1169",
   "metadata": {
    "tags": []
   },
   "source": [
    "### Final Run "
   ]
  },
  {
   "cell_type": "code",
   "execution_count": 142,
   "id": "747476ab-6388-47e5-8a27-85ec103c7ea1",
   "metadata": {
    "tags": []
   },
   "outputs": [
    {
     "name": "stdout",
     "output_type": "stream",
     "text": [
      "Testing Gauss-Newton method:\n",
      "Initial guess: [100000, 100, 1000]\n",
      "Converged in 9 iterations.\n",
      "-> Converged in 9 iterations\n",
      "-> Final parameters: [66886.39000034    77.49357897   788.88385913]\n",
      "Initial guess: [80000, 100, 700]\n",
      "Converged in 8 iterations.\n",
      "-> Converged in 8 iterations\n",
      "-> Final parameters: [66886.3899178     77.49357897   788.88385795]\n",
      "Initial guess: [50000, 100, 700]\n",
      "Converged in 10 iterations.\n",
      "-> Converged in 10 iterations\n",
      "-> Final parameters: [66886.38975458    77.49357897   788.88385575]\n",
      "Initial guess: [80000, 150, 1000]\n",
      "-> Did not converge: Singular matrix\n",
      "Initial guess: [80000, 70, 700]\n",
      "Converged in 8 iterations.\n",
      "-> Converged in 8 iterations\n",
      "-> Final parameters: [66886.39010117    77.49357897   788.88386048]\n",
      "Initial guess: [10000, 50, 500]\n",
      "-> Did not converge: Singular matrix\n",
      "Initial guess: [1000, 10, 100]\n",
      "-> Did not converge: Singular matrix\n",
      "Initial guess: [1, 1, 1]\n",
      "-> Did not converge: Singular matrix\n",
      "\n",
      "Testing Levenberg-Marquardt method:\n",
      "Initial guess: [100000, 100, 1000]\n",
      "Convergence at the iteration i: 21\n",
      "-> Converged in 21 iterations\n",
      "-> Final parameters: [66886.38990266    77.49357897   788.88385775]\n",
      "Initial guess: [80000, 100, 700]\n",
      "Convergence at the iteration i: 20\n",
      "-> Converged in 20 iterations\n",
      "-> Final parameters: [66886.38978972    77.49357897   788.8838562 ]\n",
      "Initial guess: [50000, 100, 700]\n",
      "Convergence at the iteration i: 20\n",
      "-> Converged in 20 iterations\n",
      "-> Final parameters: [66886.38984401    77.49357897   788.88385698]\n",
      "Initial guess: [80000, 150, 1000]\n",
      "Convergence at the iteration i: 20\n",
      "-> Converged in 20 iterations\n",
      "-> Final parameters: [66886.39012232    77.49357896   788.88386069]\n",
      "Initial guess: [80000, 70, 700]\n",
      "Convergence at the iteration i: 20\n",
      "-> Converged in 20 iterations\n",
      "-> Final parameters: [66886.38997155    77.49357897   788.88385869]\n",
      "Initial guess: [10000, 50, 500]\n",
      "Convergence at the iteration i: 62\n",
      "-> Converged in 62 iterations\n",
      "-> Final parameters: [66886.38962588    77.49357898   788.88385401]\n",
      "Initial guess: [1000, 10, 100]\n",
      "Convergence at the iteration i: 46\n",
      "-> Converged in 46 iterations\n",
      "-> Final parameters: [66886.38974324    77.49357898   788.88385561]\n",
      "Initial guess: [1, 1, 1]\n",
      "Convergence at the iteration i: 413\n",
      "-> Converged in 413 iterations\n",
      "-> Final parameters: [66886.38990915    77.49357897   788.8838578 ]\n"
     ]
    },
    {
     "data": {
      "image/png": "[encoded data removed]",
      "text/plain": [
       "<Figure size 640x480 with 1 Axes>"
      ]
     },
     "metadata": {},
     "output_type": "display_data"
    }
   ],
   "source": [
    "if __name__ == \"__main__\":\n",
    "    # Load the data\n",
    "    data = pd.read_csv(\"breit_wigner.csv\")\n",
    "    \n",
    "    # Extract x and y columns from the NumPy array\n",
    "    #x = data[:, 0]  # Assuming 'x' is the first column\n",
    "    #y = data[:, 1]  # Assuming 'y' is the second column\n",
    "\n",
    "    beta_guess_list = [\n",
    "        [100000, 100, 1000],\n",
    "        [80000, 100, 700],\n",
    "        [50000, 100, 700],\n",
    "        [80000, 150, 1000],\n",
    "        [80000, 70, 700],\n",
    "        [10000, 50, 500],\n",
    "        [1000, 10, 100],\n",
    "        [1, 1, 1]\n",
    "    ]\n",
    "\n",
    "    print(\"Testing Gauss-Newton method:\")\n",
    "    \n",
    "    for beta_guess in beta_guess_list:\n",
    "        print(\"Initial guess:\", beta_guess)\n",
    "        try:\n",
    "            beta, iterations = gauss_newton(x, y, beta_guess, breit_wigner, max_iter=500)\n",
    "            print(f\"-> Converged in {iterations} iterations\")\n",
    "            print(\"-> Final parameters:\", beta)\n",
    "        except Exception as e:\n",
    "            print(\"-> Did not converge:\", e)\n",
    "\n",
    "    print(\"\")\n",
    "    print(\"Testing Levenberg-Marquardt method:\")\n",
    "    \n",
    "    for beta_guess in beta_guess_list:\n",
    "        print(\"Initial guess:\", beta_guess)\n",
    "        try:\n",
    "            beta, iterations = levenberg_marquardt(x, y, beta_guess, breit_wigner)\n",
    "            print(f\"-> Converged in {iterations} iterations\")\n",
    "            print(\"-> Final parameters:\", beta)\n",
    "        except UserWarning as e:\n",
    "            print(\"-> Did not converge:\", e)\n",
    "\n",
    "    # Plotting the results of the final Levenberg-Marquardt fit\n",
    "    \n",
    "    x_range = np.linspace(min(x), max(x), 1000)\n",
    "    y_range = breit_wigner(pd.DataFrame({'x': x_range}), beta)\n",
    "\n",
    "    plt.figure()\n",
    "    plt.scatter(x, y, label=\"Data\")\n",
    "    plt.plot(x_range, y_range, \":r\", label=\"Fit\")\n",
    "    plt.xlabel(\"x\")\n",
    "    plt.ylabel(\"y\")\n",
    "    plt.legend()\n",
    "    plt.title(\"Fit using Levenberg-Marquardt\")\n",
    "    plt.show()\n",
    "    \n",
    "    "
   ]
  },
  {
   "cell_type": "code",
   "execution_count": 138,
   "id": "6048aa10-956f-408c-99fe-533b685b7ce4",
   "metadata": {
    "tags": []
   },
   "outputs": [
    {
     "data": {
      "text/plain": [
       "array([[  0.  ,  10.6 ],\n",
       "       [ 25.  ,  16.  ],\n",
       "       [ 50.  ,  45.  ],\n",
       "       [ 75.  ,  83.5 ],\n",
       "       [100.  ,  52.8 ],\n",
       "       [125.  ,  19.9 ],\n",
       "       [150.  ,  10.8 ],\n",
       "       [175.  ,   8.25],\n",
       "       [200.  ,   4.7 ]])"
      ]
     },
     "execution_count": 138,
     "metadata": {},
     "output_type": "execute_result"
    }
   ],
   "source": [
    "data = pd.read_csv('/Users/parkinhyuk/Desktop/TUM/Python for Engineering Data Analysis - From Machine Learning to Visualization/Excercise 12 - LMA/breit_wigner.csv')\n",
    "data.to_numpy()"
   ]
  },
  {
   "cell_type": "code",
   "execution_count": null,
   "id": "c70d68d8-21c7-4139-8ad9-7a856da9a9c1",
   "metadata": {
    "tags": []
   },
   "outputs": [],
   "source": []
  },
  {
   "cell_type": "code",
   "execution_count": null,
   "id": "f6d72183-3252-4748-b11c-7666960f2d6a",
   "metadata": {
    "tags": []
   },
   "outputs": [],
   "source": []
  },
  {
   "cell_type": "code",
   "execution_count": 83,
   "id": "071977cb-5175-45f5-afac-457bc5928098",
   "metadata": {
    "tags": []
   },
   "outputs": [
    {
     "name": "stdout",
     "output_type": "stream",
     "text": [
      "Testing Gauss-Newton method:\n",
      "Initial guess: [100000, 100, 1000]\n",
      "Converged in 9 iterations.\n",
      "-> Converged in   9 iterations\n",
      "-> Final parameters: [66886.39000034    77.49357897   788.88385913]\n",
      "Initial guess: [80000, 100, 700]\n",
      "Converged in 8 iterations.\n",
      "-> Converged in   8 iterations\n",
      "-> Final parameters: [66886.3899178     77.49357897   788.88385795]\n",
      "Initial guess: [50000, 100, 700]\n",
      "Converged in 10 iterations.\n",
      "-> Converged in  10 iterations\n",
      "-> Final parameters: [66886.38975458    77.49357897   788.88385575]\n",
      "Initial guess: [80000, 150, 1000]\n",
      "-> Did not converge: Singular matrix\n",
      "Initial guess: [80000, 70, 700]\n",
      "Converged in 8 iterations.\n",
      "-> Converged in   8 iterations\n",
      "-> Final parameters: [66886.39010117    77.49357897   788.88386048]\n",
      "Initial guess: [10000, 50, 500]\n",
      "-> Did not converge: Singular matrix\n",
      "Initial guess: [1000, 10, 100]\n",
      "-> Did not converge: Singular matrix\n",
      "Initial guess: [1, 1, 1]\n",
      "-> Did not converge: Singular matrix\n",
      "\n",
      "Testing Levenberg-Marquardt method:\n",
      "Initial guess: [100000, 100, 1000]\n",
      "Converged in 17 iterations.\n",
      "-> Converged in  17 iterations\n",
      "-> Final parameters: [66886.38983063    77.49357897   788.88385679]\n",
      "Initial guess: [80000, 100, 700]\n",
      "Converged in 15 iterations.\n",
      "-> Converged in  15 iterations\n",
      "-> Final parameters: [66886.3899479     77.49357897   788.88385839]\n",
      "Initial guess: [50000, 100, 700]\n",
      "Converged in 15 iterations.\n",
      "-> Converged in  15 iterations\n",
      "-> Final parameters: [66886.38996536    77.49357898   788.88385865]\n",
      "Initial guess: [80000, 150, 1000]\n",
      "Converged in 22 iterations.\n",
      "-> Converged in  22 iterations\n",
      "-> Final parameters: [66886.38992728    77.49357897   788.8838581 ]\n",
      "Initial guess: [80000, 70, 700]\n",
      "Converged in 15 iterations.\n",
      "-> Converged in  15 iterations\n",
      "-> Final parameters: [66886.3897107     77.49357896   788.88385507]\n",
      "Initial guess: [10000, 50, 500]\n",
      "Converged in 211 iterations.\n",
      "-> Converged in 211 iterations\n",
      "-> Final parameters: [66886.38992904    77.493579     788.88385826]\n",
      "Initial guess: [1000, 10, 100]\n",
      "Converged in 55 iterations.\n",
      "-> Converged in  55 iterations\n",
      "-> Final parameters: [66886.38982189    77.49357898   788.88385664]\n",
      "Initial guess: [1, 1, 1]\n",
      "Converged in 190 iterations.\n",
      "-> Converged in 190 iterations\n",
      "-> Final parameters: [66886.38972072    77.49357898   788.88385524]\n"
     ]
    },
    {
     "data": {
      "image/png": "[encoded data removed]",
      "text/plain": [
       "<Figure size 640x480 with 1 Axes>"
      ]
     },
     "metadata": {},
     "output_type": "display_data"
    }
   ],
   "source": [
    "import numpy as np\n",
    "import pandas as pd\n",
    "import matplotlib.pyplot as plt\n",
    "\n",
    "def breit_wigner(x: np.ndarray, beta: np.ndarray) -> np.ndarray:\n",
    "    a, b, c = beta\n",
    "    return a / ((b - x)**2 + c)\n",
    "\n",
    "def eval_jacobian(x: np.ndarray, beta: np.ndarray, function: callable, delta: float = 1e-4) -> np.ndarray:\n",
    "    n = len(beta)  # Number of parameters\n",
    "    m = len(x)     # Number of data points\n",
    "    \n",
    "    J = np.zeros((m, n))  # Initialize Jacobian matrix\n",
    "    \n",
    "    for j in range(n):\n",
    "        beta_plus = beta.copy()\n",
    "        beta_minus = beta.copy()\n",
    "        \n",
    "        beta_plus[j] += delta\n",
    "        beta_minus[j] -= delta\n",
    "        \n",
    "        J[:, j] = (function(x, beta_plus) - function(x, beta_minus)) / (2 * delta)\n",
    "    \n",
    "    return J\n",
    "\n",
    "def eval_error(x: np.ndarray, y: np.ndarray, beta: np.ndarray, function: callable) -> np.ndarray:\n",
    "    predictions = function(x, beta)\n",
    "    return y - predictions\n",
    "\n",
    "def gauss_newton_update(jacobian: np.ndarray, error: np.ndarray) -> np.ndarray:\n",
    "    A = jacobian.T @ jacobian\n",
    "    g = jacobian.T @ error\n",
    "    delta_beta = np.linalg.solve(A, g)\n",
    "    return delta_beta\n",
    "\n",
    "def gauss_newton(x: np.ndarray,\n",
    "                 y: np.ndarray,\n",
    "                 beta: np.ndarray,\n",
    "                 function: callable,\n",
    "                 max_iter: int = 100,\n",
    "                 threshold: float = 1e-3) -> tuple[np.ndarray, int]:\n",
    "    beta = np.array(beta, dtype=float)  # Ensure beta is a float array\n",
    "    \n",
    "    for i in range(1, max_iter + 1):\n",
    "        jac = eval_jacobian(x, beta, function)\n",
    "        err = eval_error(x, y, beta, function)\n",
    "        delta_beta = gauss_newton_update(jac, err)\n",
    "        beta += delta_beta\n",
    "        \n",
    "        if np.linalg.norm(delta_beta) < threshold:\n",
    "            print(f\"Converged in {i} iterations.\")\n",
    "            break\n",
    "    \n",
    "    if i == max_iter:\n",
    "        raise UserWarning(f\"Gauss-Newton method did not converge in {i} iterations.\")\n",
    "    \n",
    "    return beta, i\n",
    "\n",
    "def lm_update(jacobian: np.ndarray,\n",
    "              error: np.ndarray,\n",
    "              lm_lambda: float) -> np.ndarray:\n",
    "    n = jacobian.shape[1]\n",
    "    I = np.eye(n)\n",
    "    A = jacobian.T @ jacobian + lm_lambda * I\n",
    "    g = jacobian.T @ error\n",
    "    delta_beta = np.linalg.solve(A, g)\n",
    "    return delta_beta\n",
    "\n",
    "def levenberg_marquardt(x: np.ndarray,\n",
    "                        y: np.ndarray,\n",
    "                        beta: np.ndarray,\n",
    "                        function: callable,\n",
    "                        max_iter: int = 1000,\n",
    "                        threshold: float = 1e-3) -> tuple[np.ndarray, int]:\n",
    "    lambda_ = 1e-3\n",
    "    beta = np.array(beta, dtype=float)  # Ensure beta is a float array\n",
    "    \n",
    "    for i in range(1, max_iter + 1):\n",
    "        jacobian = eval_jacobian(x, beta, function)\n",
    "        error = eval_error(x, y, beta, function)\n",
    "        \n",
    "        delta_beta = lm_update(jacobian, error, lambda_)\n",
    "        beta_new = beta + delta_beta\n",
    "        \n",
    "        new_error = eval_error(x, y, beta_new, function)\n",
    "        \n",
    "        rho = (np.linalg.norm(error)**2 - np.linalg.norm(new_error)**2) / (delta_beta.T @ (lambda_ * delta_beta + jacobian.T @ error))\n",
    "        \n",
    "        if rho > 0:\n",
    "            beta = beta_new\n",
    "            lambda_ *= max(1/3, 1 - (2 * rho - 1)**3)\n",
    "        else:\n",
    "            lambda_ *= 2\n",
    "        \n",
    "        if np.linalg.norm(delta_beta) < threshold:\n",
    "            print(f\"Converged in {i} iterations.\")\n",
    "            return beta, i\n",
    "    \n",
    "    if i == max_iter:\n",
    "        raise UserWarning(f\"Levenberg-Marquardt method did not converge in {i} iterations.\")\n",
    "    \n",
    "    return beta, i\n",
    "\n",
    "if __name__ == \"__main__\":\n",
    "    # Load the data from the CSV file\n",
    "    data = pd.read_csv(\"breit_wigner.csv\")\n",
    "    \n",
    "    # Ensure that 'x' and 'y' columns are extracted correctly\n",
    "    x = data[\"x\"].values\n",
    "    y = data[\"y\"].values\n",
    "    \n",
    "    beta_guess_list = [\n",
    "        [100000, 100, 1000],\n",
    "        [80000, 100, 700],\n",
    "        [50000, 100, 700],\n",
    "        [80000, 150, 1000],\n",
    "        [80000, 70, 700],\n",
    "        [10000, 50, 500],\n",
    "        [1000, 10, 100],\n",
    "        [1, 1, 1]\n",
    "    ]\n",
    "\n",
    "    print(\"Testing Gauss-Newton method:\")\n",
    "    for beta_guess in beta_guess_list:\n",
    "        print(\"Initial guess:\", beta_guess)\n",
    "        try:\n",
    "            beta, iterations = gauss_newton(x, y, beta_guess, breit_wigner, max_iter=500)\n",
    "            print(f\"-> Converged in {iterations:3d} iterations\")\n",
    "            print(\"-> Final parameters:\", beta)\n",
    "        except Exception as e:\n",
    "            print(\"-> Did not converge:\", e)\n",
    "\n",
    "    print(\"\")\n",
    "    print(\"Testing Levenberg-Marquardt method:\")\n",
    "    for beta_guess in beta_guess_list:\n",
    "        print(\"Initial guess:\", beta_guess)\n",
    "        try:\n",
    "            beta, iterations = levenberg_marquardt(x, y, beta_guess, breit_wigner)\n",
    "            print(f\"-> Converged in {iterations:3d} iterations\")\n",
    "            print(\"-> Final parameters:\", beta)\n",
    "        except UserWarning as e:\n",
    "            print(\"-> Did not converge:\", e)\n",
    "\n",
    "    # Plotting the results of the final Levenberg-Marquardt fit\n",
    "    x_range = np.linspace(min(x), max(x), 1000)\n",
    "    y_range = breit_wigner(x_range, beta)\n",
    "\n",
    "    plt.figure()\n",
    "    plt.scatter(x, y, label=\"Data\")\n",
    "    plt.plot(x_range, y_range, \":r\", label=\"Fit\")\n",
    "    plt.xlabel(\"x\")\n",
    "    plt.ylabel(\"y\")\n",
    "    plt.legend()\n",
    "    plt.title(\"Fit using Levenberg-Marquardt\")\n",
    "    plt.show()\n"
   ]
  },
  {
   "cell_type": "code",
   "execution_count": null,
   "id": "0cf4e505-9364-4afd-8143-b9c8c270bce8",
   "metadata": {},
   "outputs": [],
   "source": []
  }
 ],
 "metadata": {
  "kernelspec": {
   "display_name": "Python 3 (ipykernel)",
   "language": "python",
   "name": "python3"
  },
  "language_info": {
   "codemirror_mode": {
    "name": "ipython",
    "version": 3
   },
   "file_extension": ".py",
   "mimetype": "text/x-python",
   "name": "python",
   "nbconvert_exporter": "python",
   "pygments_lexer": "ipython3",
   "version": "3.11.5"
  }
 },
 "nbformat": 4,
 "nbformat_minor": 5
}
